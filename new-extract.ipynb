{
 "cells": [
  {
   "cell_type": "code",
   "execution_count": 121,
   "metadata": {},
   "outputs": [],
   "source": [
    "from requests import get\n",
    "from bs4 import BeautifulSoup\n",
    "from lxml import etree\n",
    "from datetime import datetime, date, timedelta"
   ]
  },
  {
   "cell_type": "code",
   "execution_count": 122,
   "metadata": {},
   "outputs": [],
   "source": [
    "import pandas as pd\n",
    "import numpy as np\n",
    "\n",
    "import time\n",
    "import re"
   ]
  },
  {
   "cell_type": "code",
   "execution_count": 181,
   "metadata": {},
   "outputs": [],
   "source": [
    "# get search url #https://medium.com/data-hackers/tutorial-para-iniciantes-web-scraping-em-python-bb71778ed40c\n",
    "url = 'https://safras.com.br/eng/agribusiness/'\n",
    "response = get(url)\n",
    "# create soup\n",
    "soup = BeautifulSoup(response.text, 'html.parser')\n",
    "# get Dom\n",
    "dom = etree.HTML(str(soup))"
   ]
  },
  {
   "cell_type": "code",
   "execution_count": 182,
   "metadata": {},
   "outputs": [],
   "source": [
    "# get last news\n",
    "title = dom.xpath('//*[@id=\"tdi_39\"]/div[1]/div/div[2]/h3/a')[0].get('title')\n",
    "link = dom.xpath('//*[@id=\"tdi_39\"]/div[1]/div/div[2]/h3/a')[0].get('href')\n",
    "\n",
    "# get data author and date\n",
    "author = dom.xpath('//*[@id=\"tdi_39\"]/div[1]/div/div[2]/div[1]/span/span[1]/a')[0].text\n",
    "date = dom.xpath('//*[@id=\"tdi_39\"]/div[1]/div/div[2]/div[1]/span/span[2]/time')[0].get('datetime')[:10]\n",
    "last_news = 'true'"
   ]
  },
  {
   "cell_type": "code",
   "execution_count": 183,
   "metadata": {},
   "outputs": [
    {
     "data": {
      "text/plain": [
       "'2024-01-23'"
      ]
     },
     "execution_count": 183,
     "metadata": {},
     "output_type": "execute_result"
    }
   ],
   "source": [
    "# validate date\n",
    "today = datetime.today()\n",
    "yesterday = (today - timedelta(days=1)).strftime('%Y-%m-%d')\n",
    "week_ago = today - timedelta(days=7)\n",
    "\n",
    "# Validate\n",
    "yesterday2 = (today - timedelta(days=3)).strftime('%Y-%m-%d')\n",
    "yesterday2"
   ]
  },
  {
   "cell_type": "code",
   "execution_count": 184,
   "metadata": {},
   "outputs": [],
   "source": [
    "# create frame last news\n",
    "frame = pd.DataFrame(columns=['data_process','title','link','author','date_publish','last_news'], dtype=str)\n",
    "\n",
    "# set schema\n",
    "schema = {\n",
    "    'data_process':today.strftime('%Y-%m-%d'),\n",
    "    'title':title,\n",
    "    'link':link,\n",
    "    'author':author,\n",
    "    'date_publish':date,\n",
    "    'last_news': last_news\n",
    "    }\n",
    "\n",
    "frame = pd.concat([frame, pd.DataFrame([schema])])"
   ]
  },
  {
   "cell_type": "code",
   "execution_count": 185,
   "metadata": {},
   "outputs": [
    {
     "data": {
      "text/html": [
       "<div>\n",
       "<style scoped>\n",
       "    .dataframe tbody tr th:only-of-type {\n",
       "        vertical-align: middle;\n",
       "    }\n",
       "\n",
       "    .dataframe tbody tr th {\n",
       "        vertical-align: top;\n",
       "    }\n",
       "\n",
       "    .dataframe thead th {\n",
       "        text-align: right;\n",
       "    }\n",
       "</style>\n",
       "<table border=\"1\" class=\"dataframe\">\n",
       "  <thead>\n",
       "    <tr style=\"text-align: right;\">\n",
       "      <th></th>\n",
       "      <th>data_process</th>\n",
       "      <th>title</th>\n",
       "      <th>link</th>\n",
       "      <th>author</th>\n",
       "      <th>date_publish</th>\n",
       "      <th>last_news</th>\n",
       "    </tr>\n",
       "  </thead>\n",
       "  <tbody>\n",
       "    <tr>\n",
       "      <th>0</th>\n",
       "      <td>2024-01-26</td>\n",
       "      <td>Early harvest in Brazil, USDA, and supply size...</td>\n",
       "      <td>https://safras.com.br/eng/early-harvest-in-bra...</td>\n",
       "      <td>Ritiele Rodrigues</td>\n",
       "      <td>2024-01-23</td>\n",
       "      <td>true</td>\n",
       "    </tr>\n",
       "  </tbody>\n",
       "</table>\n",
       "</div>"
      ],
      "text/plain": [
       "  data_process                                              title  \\\n",
       "0   2024-01-26  Early harvest in Brazil, USDA, and supply size...   \n",
       "\n",
       "                                                link             author  \\\n",
       "0  https://safras.com.br/eng/early-harvest-in-bra...  Ritiele Rodrigues   \n",
       "\n",
       "  date_publish last_news  \n",
       "0   2024-01-23      true  "
      ]
     },
     "execution_count": 185,
     "metadata": {},
     "output_type": "execute_result"
    }
   ],
   "source": [
    "frame"
   ]
  },
  {
   "cell_type": "code",
   "execution_count": 186,
   "metadata": {},
   "outputs": [],
   "source": [
    "# Count of array\n",
    "count_array = len(soup.findAll(class_='td-module-meta-info'))\n",
    "\n",
    "# Loop for get data\n",
    "for count_ in range(1, count_array):\n",
    "    title = soup.findAll(class_='td-module-meta-info')[count_].h3.a['title']\n",
    "    link = soup.findAll(class_='td-module-meta-info')[count_].h3.a['href']\n",
    "    date = soup.findAll(class_='td-module-meta-info')[count_].div.span.span.time['datetime'][:10]\n",
    "    last_news = 'false'\n",
    "    \n",
    "    schema = {\n",
    "        'data_process':today.strftime('%Y-%m-%d'),\n",
    "        'title':title,\n",
    "        'link':link,\n",
    "        'author':'null',\n",
    "        'date_publish':date,\n",
    "        'last_news': last_news\n",
    "        }\n",
    "    \n",
    "    frame = pd.concat([frame, pd.DataFrame([schema])])"
   ]
  },
  {
   "cell_type": "code",
   "execution_count": 187,
   "metadata": {},
   "outputs": [],
   "source": [
    "frame['send_mail'] = frame['date_publish'].map(lambda x: 'true' if x == yesterday else 'false')\n",
    "frame['send_mail2'] = frame['date_publish'].map(lambda x: 'true' if x == yesterday2 else 'false')"
   ]
  },
  {
   "cell_type": "code",
   "execution_count": 188,
   "metadata": {},
   "outputs": [
    {
     "data": {
      "text/html": [
       "<div>\n",
       "<style scoped>\n",
       "    .dataframe tbody tr th:only-of-type {\n",
       "        vertical-align: middle;\n",
       "    }\n",
       "\n",
       "    .dataframe tbody tr th {\n",
       "        vertical-align: top;\n",
       "    }\n",
       "\n",
       "    .dataframe thead th {\n",
       "        text-align: right;\n",
       "    }\n",
       "</style>\n",
       "<table border=\"1\" class=\"dataframe\">\n",
       "  <thead>\n",
       "    <tr style=\"text-align: right;\">\n",
       "      <th></th>\n",
       "      <th>data_process</th>\n",
       "      <th>title</th>\n",
       "      <th>link</th>\n",
       "      <th>author</th>\n",
       "      <th>date_publish</th>\n",
       "      <th>last_news</th>\n",
       "      <th>send_mail</th>\n",
       "      <th>send_mail2</th>\n",
       "    </tr>\n",
       "  </thead>\n",
       "  <tbody>\n",
       "    <tr>\n",
       "      <th>0</th>\n",
       "      <td>2024-01-26</td>\n",
       "      <td>Early harvest in Brazil, USDA, and supply size...</td>\n",
       "      <td>https://safras.com.br/eng/early-harvest-in-bra...</td>\n",
       "      <td>Ritiele Rodrigues</td>\n",
       "      <td>2024-01-23</td>\n",
       "      <td>true</td>\n",
       "      <td>false</td>\n",
       "      <td>true</td>\n",
       "    </tr>\n",
       "    <tr>\n",
       "      <th>0</th>\n",
       "      <td>2024-01-26</td>\n",
       "      <td>With a smaller soybean crop, Brazil is forecas...</td>\n",
       "      <td>https://safras.com.br/eng/with-a-smaller-soybe...</td>\n",
       "      <td>null</td>\n",
       "      <td>2024-01-16</td>\n",
       "      <td>false</td>\n",
       "      <td>false</td>\n",
       "      <td>false</td>\n",
       "    </tr>\n",
       "    <tr>\n",
       "      <th>0</th>\n",
       "      <td>2024-01-26</td>\n",
       "      <td>Exchanges increase potential production of cor...</td>\n",
       "      <td>https://safras.com.br/eng/exchanges-increase-p...</td>\n",
       "      <td>null</td>\n",
       "      <td>2024-01-16</td>\n",
       "      <td>false</td>\n",
       "      <td>false</td>\n",
       "      <td>false</td>\n",
       "    </tr>\n",
       "    <tr>\n",
       "      <th>0</th>\n",
       "      <td>2024-01-26</td>\n",
       "      <td>The live pig x corn exchange ratio worsened in...</td>\n",
       "      <td>https://safras.com.br/eng/the-live-pig-x-corn-...</td>\n",
       "      <td>null</td>\n",
       "      <td>2024-01-11</td>\n",
       "      <td>false</td>\n",
       "      <td>false</td>\n",
       "      <td>false</td>\n",
       "    </tr>\n",
       "    <tr>\n",
       "      <th>0</th>\n",
       "      <td>2024-01-26</td>\n",
       "      <td>With growers revising the soybean crop size, 2...</td>\n",
       "      <td>https://safras.com.br/eng/with-growers-revisin...</td>\n",
       "      <td>null</td>\n",
       "      <td>2024-01-09</td>\n",
       "      <td>false</td>\n",
       "      <td>false</td>\n",
       "      <td>false</td>\n",
       "    </tr>\n",
       "  </tbody>\n",
       "</table>\n",
       "</div>"
      ],
      "text/plain": [
       "  data_process                                              title  \\\n",
       "0   2024-01-26  Early harvest in Brazil, USDA, and supply size...   \n",
       "0   2024-01-26  With a smaller soybean crop, Brazil is forecas...   \n",
       "0   2024-01-26  Exchanges increase potential production of cor...   \n",
       "0   2024-01-26  The live pig x corn exchange ratio worsened in...   \n",
       "0   2024-01-26  With growers revising the soybean crop size, 2...   \n",
       "\n",
       "                                                link             author  \\\n",
       "0  https://safras.com.br/eng/early-harvest-in-bra...  Ritiele Rodrigues   \n",
       "0  https://safras.com.br/eng/with-a-smaller-soybe...               null   \n",
       "0  https://safras.com.br/eng/exchanges-increase-p...               null   \n",
       "0  https://safras.com.br/eng/the-live-pig-x-corn-...               null   \n",
       "0  https://safras.com.br/eng/with-growers-revisin...               null   \n",
       "\n",
       "  date_publish last_news send_mail send_mail2  \n",
       "0   2024-01-23      true     false       true  \n",
       "0   2024-01-16     false     false      false  \n",
       "0   2024-01-16     false     false      false  \n",
       "0   2024-01-11     false     false      false  \n",
       "0   2024-01-09     false     false      false  "
      ]
     },
     "execution_count": 188,
     "metadata": {},
     "output_type": "execute_result"
    }
   ],
   "source": [
    "frame"
   ]
  }
 ],
 "metadata": {
  "kernelspec": {
   "display_name": "Python 3.9.6 64-bit",
   "language": "python",
   "name": "python3"
  },
  "language_info": {
   "codemirror_mode": {
    "name": "ipython",
    "version": 3
   },
   "file_extension": ".py",
   "mimetype": "text/x-python",
   "name": "python",
   "nbconvert_exporter": "python",
   "pygments_lexer": "ipython3",
   "version": "3.10.7"
  },
  "vscode": {
   "interpreter": {
    "hash": "31f2aee4e71d21fbe5cf8b01ff0e069b9275f58929596ceb00d14d90e3e16cd6"
   }
  }
 },
 "nbformat": 4,
 "nbformat_minor": 2
}
